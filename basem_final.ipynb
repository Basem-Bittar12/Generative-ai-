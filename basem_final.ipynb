{
  "metadata": {
    "kernelspec": {
      "language": "python",
      "display_name": "Python 3",
      "name": "python3"
    },
    "language_info": {
      "name": "python",
      "version": "3.11.11",
      "mimetype": "text/x-python",
      "codemirror_mode": {
        "name": "ipython",
        "version": 3
      },
      "pygments_lexer": "ipython3",
      "nbconvert_exporter": "python",
      "file_extension": ".py"
    },
    "kaggle": {
      "accelerator": "nvidiaTeslaT4",
      "dataSources": [
        {
          "sourceId": 11888299,
          "sourceType": "datasetVersion",
          "datasetId": 7472181
        }
      ],
      "dockerImageVersionId": 31041,
      "isInternetEnabled": true,
      "language": "python",
      "sourceType": "notebook",
      "isGpuEnabled": true
    },
    "colab": {
      "provenance": []
    }
  },
  "nbformat_minor": 0,
  "nbformat": 4,
  "cells": [
    {
      "cell_type": "code",
      "source": [
        "# Install the required libraries\n",
        "!pip install transformers datasets --quiet\n",
        "\n",
        "# Import necessary libraries\n",
        "import pandas as pd\n",
        "from datasets import Dataset\n",
        "from transformers import GPT2Tokenizer, GPT2LMHeadModel, Trainer, TrainingArguments, DataCollatorForLanguageModeling\n",
        "\n",
        "# Step 1: Read the text file into a list of quotes\n",
        "# Adjust the file path to where your file is located in Kaggle\n",
        "file_path = '/kaggle/input/basem-bittar/motivational_quotes_fixed.txt'  # Update this path accordingly\n",
        "\n",
        "# Read the text file\n",
        "with open(file_path, \"r\", encoding=\"utf-8\") as f:\n",
        "    lines = [line.strip() for line in f if line.strip()]\n",
        "\n",
        "# Check the first few lines to verify if the data is loaded correctly\n",
        "print(lines[:5])\n",
        "\n",
        "# Step 2: Convert the list of strings into a Hugging Face Dataset format\n",
        "dataset_dict = {\"text\": lines}\n",
        "dataset = Dataset.from_dict(dataset_dict)\n",
        "\n",
        "# Step 3: Load the GPT-2 tokenizer\n",
        "tokenizer = GPT2Tokenizer.from_pretrained(\"gpt2\")\n",
        "tokenizer.pad_token = tokenizer.eos_token  # Set pad token for GPT-2\n",
        "\n",
        "# Tokenize the dataset\n",
        "def tokenize(example):\n",
        "    return tokenizer(example[\"text\"], truncation=True, max_length=128)\n",
        "\n",
        "# Apply tokenization to the dataset\n",
        "tokenized_dataset = dataset.map(tokenize, batched=True, remove_columns=[\"text\"])\n",
        "\n",
        "# Check the tokenized dataset\n",
        "print(tokenized_dataset)\n",
        "\n",
        "# Step 4: Load the GPT-2 model and set up the data collator for language modeling\n",
        "model = GPT2LMHeadModel.from_pretrained(\"gpt2\")\n",
        "\n",
        "# Data collator for language modeling (handles padding)\n",
        "data_collator = DataCollatorForLanguageModeling(tokenizer=tokenizer, mlm=False)\n",
        "\n",
        "# Step 5: Set up training arguments\n",
        "training_args = TrainingArguments(\n",
        "    output_dir=\"./gpt2-motivational-finetuned\",  # Output directory for the fine-tuned model\n",
        "    num_train_epochs=2,  # Number of training epochs\n",
        "    per_device_train_batch_size=4,  # Batch size for training\n",
        "    save_steps=500,  # Save model every 500 steps\n",
        "    logging_steps=100,  # Log every 100 steps\n",
        "    save_total_limit=1,  # Limit the number of saved checkpoints\n",
        "    prediction_loss_only=True,  # Only save loss during prediction\n",
        "    report_to=\"none\",  # Disable reporting to Hugging Face hub\n",
        ")\n"
      ],
      "metadata": {
        "trusted": true,
        "execution": {
          "iopub.status.busy": "2025-05-20T21:29:10.114352Z",
          "iopub.execute_input": "2025-05-20T21:29:10.114598Z",
          "iopub.status.idle": "2025-05-20T21:29:35.072879Z",
          "shell.execute_reply.started": "2025-05-20T21:29:10.114578Z",
          "shell.execute_reply": "2025-05-20T21:29:35.072006Z"
        },
        "id": "rMZx8nUN_2WN",
        "outputId": "65fca8aa-7149-4d73-906f-e43949be0a29",
        "colab": {
          "referenced_widgets": [
            "4a27428dc0624acdbc46a10641abb916"
          ]
        }
      },
      "outputs": [
        {
          "name": "stdout",
          "text": "['[SPORT] Your stays strong determines your athletic success.', '[STUDY] Perseverance learning failure into success.', '[GENERAL] Believe in yourself and all that you bridge.', '[MONEY] Manage your money with earn and care.', '[SPORT] Your deserve determines your athletic success.']\n",
          "output_type": "stream"
        },
        {
          "output_type": "display_data",
          "data": {
            "text/plain": "Map:   0%|          | 0/200000 [00:00<?, ? examples/s]",
            "application/vnd.jupyter.widget-view+json": {
              "version_major": 2,
              "version_minor": 0,
              "model_id": "4a27428dc0624acdbc46a10641abb916"
            }
          },
          "metadata": {}
        },
        {
          "name": "stdout",
          "text": "Dataset({\n    features: ['input_ids', 'attention_mask'],\n    num_rows: 200000\n})\n",
          "output_type": "stream"
        }
      ],
      "execution_count": null
    },
    {
      "cell_type": "code",
      "source": [
        "import torch\n",
        "\n",
        "# Check if CUDA (GPU) is available\n",
        "if torch.cuda.is_available():\n",
        "    print(f\"CUDA is available. GPU: {torch.cuda.get_device_name(0)}\")\n",
        "else:\n",
        "    print(\"CUDA is not available. Using CPU.\")\n"
      ],
      "metadata": {
        "trusted": true,
        "execution": {
          "iopub.status.busy": "2025-05-20T21:29:39.995214Z",
          "iopub.execute_input": "2025-05-20T21:29:39.995896Z",
          "iopub.status.idle": "2025-05-20T21:29:40.000322Z",
          "shell.execute_reply.started": "2025-05-20T21:29:39.995865Z",
          "shell.execute_reply": "2025-05-20T21:29:39.999450Z"
        },
        "id": "KgHU7XWT_2WS",
        "outputId": "7f5557d9-736e-486e-8c86-d3c68e0123bd"
      },
      "outputs": [
        {
          "name": "stdout",
          "text": "CUDA is available. GPU: Tesla T4\n",
          "output_type": "stream"
        }
      ],
      "execution_count": null
    },
    {
      "cell_type": "code",
      "source": [
        "# Step 6: Initialize the Trainer\n",
        "trainer = Trainer(\n",
        "    model=model,\n",
        "    args=training_args,\n",
        "    train_dataset=tokenized_dataset,\n",
        "    data_collator=data_collator,\n",
        ")"
      ],
      "metadata": {
        "trusted": true,
        "execution": {
          "iopub.status.busy": "2025-05-20T21:30:00.383111Z",
          "iopub.execute_input": "2025-05-20T21:30:00.383374Z",
          "iopub.status.idle": "2025-05-20T21:30:00.749971Z",
          "shell.execute_reply.started": "2025-05-20T21:30:00.383354Z",
          "shell.execute_reply": "2025-05-20T21:30:00.749394Z"
        },
        "id": "6tC-wkUp_2WT"
      },
      "outputs": [],
      "execution_count": null
    },
    {
      "cell_type": "code",
      "source": [
        "# Step 7: Start training the model\n",
        "trainer.train()"
      ],
      "metadata": {
        "trusted": true,
        "execution": {
          "iopub.status.busy": "2025-05-20T21:30:30.135505Z",
          "iopub.execute_input": "2025-05-20T21:30:30.136075Z",
          "iopub.status.idle": "2025-05-20T22:47:15.894461Z",
          "shell.execute_reply.started": "2025-05-20T21:30:30.136053Z",
          "shell.execute_reply": "2025-05-20T22:47:15.893738Z"
        },
        "id": "pKd0E0s0_2WW",
        "outputId": "312c180e-ec5d-4176-cec1-96b5a86cfdf4"
      },
      "outputs": [
        {
          "name": "stderr",
          "text": "`loss_type=None` was set in the config but it is unrecognised.Using the default loss: `ForCausalLMLoss`.\n",
          "output_type": "stream"
        },
        {
          "output_type": "display_data",
          "data": {
            "text/plain": "<IPython.core.display.HTML object>",
            "text/html": "\n    <div>\n      \n      <progress value='50000' max='50000' style='width:300px; height:20px; vertical-align: middle;'></progress>\n      [50000/50000 1:16:43, Epoch 2/2]\n    </div>\n    <table border=\"1\" class=\"dataframe\">\n  <thead>\n <tr style=\"text-align: left;\">\n      <th>Step</th>\n      <th>Training Loss</th>\n    </tr>\n  </thead>\n  <tbody>\n    <tr>\n      <td>100</td>\n      <td>1.090800</td>\n    </tr>\n    <tr>\n      <td>200</td>\n      <td>0.543200</td>\n    </tr>\n    <tr>\n      <td>300</td>\n      <td>0.448000</td>\n    </tr>\n    <tr>\n      <td>400</td>\n      <td>0.392900</td>\n    </tr>\n    <tr>\n      <td>500</td>\n      <td>0.369700</td>\n    </tr>\n    <tr>\n      <td>600</td>\n      <td>0.354700</td>\n    </tr>\n    <tr>\n      <td>700</td>\n      <td>0.335100</td>\n    </tr>\n    <tr>\n      <td>800</td>\n      <td>0.334100</td>\n    </tr>\n    <tr>\n      <td>900</td>\n      <td>0.325300</td>\n    </tr>\n    <tr>\n      <td>1000</td>\n      <td>0.313600</td>\n    </tr>\n    <tr>\n      <td>1100</td>\n      <td>0.313000</td>\n    </tr>\n    <tr>\n      <td>1200</td>\n      <td>0.306300</td>\n    </tr>\n    <tr>\n      <td>1300</td>\n      <td>0.307600</td>\n    </tr>\n    <tr>\n      <td>1400</td>\n      <td>0.306600</td>\n    </tr>\n    <tr>\n      <td>1500</td>\n      <td>0.303200</td>\n    </tr>\n    <tr>\n      <td>1600</td>\n      <td>0.301500</td>\n    </tr>\n    <tr>\n      <td>1700</td>\n      <td>0.302200</td>\n    </tr>\n    <tr>\n      <td>1800</td>\n      <td>0.299200</td>\n    </tr>\n    <tr>\n      <td>1900</td>\n      <td>0.302300</td>\n    </tr>\n    <tr>\n      <td>2000</td>\n      <td>0.302100</td>\n    </tr>\n    <tr>\n      <td>2100</td>\n      <td>0.302300</td>\n    </tr>\n    <tr>\n      <td>2200</td>\n      <td>0.297600</td>\n    </tr>\n    <tr>\n      <td>2300</td>\n      <td>0.306800</td>\n    </tr>\n    <tr>\n      <td>2400</td>\n      <td>0.297100</td>\n    </tr>\n    <tr>\n      <td>2500</td>\n      <td>0.299100</td>\n    </tr>\n    <tr>\n      <td>2600</td>\n      <td>0.299800</td>\n    </tr>\n    <tr>\n      <td>2700</td>\n      <td>0.296200</td>\n    </tr>\n    <tr>\n      <td>2800</td>\n      <td>0.295400</td>\n    </tr>\n    <tr>\n      <td>2900</td>\n      <td>0.296900</td>\n    </tr>\n    <tr>\n      <td>3000</td>\n      <td>0.294700</td>\n    </tr>\n    <tr>\n      <td>3100</td>\n      <td>0.297500</td>\n    </tr>\n    <tr>\n      <td>3200</td>\n      <td>0.292400</td>\n    </tr>\n    <tr>\n      <td>3300</td>\n      <td>0.287900</td>\n    </tr>\n    <tr>\n      <td>3400</td>\n      <td>0.294900</td>\n    </tr>\n    <tr>\n      <td>3500</td>\n      <td>0.307700</td>\n    </tr>\n    <tr>\n      <td>3600</td>\n      <td>0.291900</td>\n    </tr>\n    <tr>\n      <td>3700</td>\n      <td>0.291100</td>\n    </tr>\n    <tr>\n      <td>3800</td>\n      <td>0.291800</td>\n    </tr>\n    <tr>\n      <td>3900</td>\n      <td>0.290300</td>\n    </tr>\n    <tr>\n      <td>4000</td>\n      <td>0.289000</td>\n    </tr>\n    <tr>\n      <td>4100</td>\n      <td>0.290200</td>\n    </tr>\n    <tr>\n      <td>4200</td>\n      <td>0.291000</td>\n    </tr>\n    <tr>\n      <td>4300</td>\n      <td>0.291300</td>\n    </tr>\n    <tr>\n      <td>4400</td>\n      <td>0.291800</td>\n    </tr>\n    <tr>\n      <td>4500</td>\n      <td>0.295400</td>\n    </tr>\n    <tr>\n      <td>4600</td>\n      <td>0.287700</td>\n    </tr>\n    <tr>\n      <td>4700</td>\n      <td>0.295900</td>\n    </tr>\n    <tr>\n      <td>4800</td>\n      <td>0.288200</td>\n    </tr>\n    <tr>\n      <td>4900</td>\n      <td>0.288200</td>\n    </tr>\n    <tr>\n      <td>5000</td>\n      <td>0.292500</td>\n    </tr>\n    <tr>\n      <td>5100</td>\n      <td>0.285300</td>\n    </tr>\n    <tr>\n      <td>5200</td>\n      <td>0.290400</td>\n    </tr>\n    <tr>\n      <td>5300</td>\n      <td>0.288500</td>\n    </tr>\n    <tr>\n      <td>5400</td>\n      <td>0.286300</td>\n    </tr>\n    <tr>\n      <td>5500</td>\n      <td>0.287600</td>\n    </tr>\n    <tr>\n      <td>5600</td>\n      <td>0.286100</td>\n    </tr>\n    <tr>\n      <td>5700</td>\n      <td>0.287800</td>\n    </tr>\n    <tr>\n      <td>5800</td>\n      <td>0.288600</td>\n    </tr>\n    <tr>\n      <td>5900</td>\n      <td>0.286500</td>\n    </tr>\n    <tr>\n      <td>6000</td>\n      <td>0.289800</td>\n    </tr>\n    <tr>\n      <td>6100</td>\n      <td>0.293100</td>\n    </tr>\n    <tr>\n      <td>6200</td>\n      <td>0.292100</td>\n    </tr>\n    <tr>\n      <td>6300</td>\n      <td>0.288900</td>\n    </tr>\n    <tr>\n      <td>6400</td>\n      <td>0.281300</td>\n    </tr>\n    <tr>\n      <td>6500</td>\n      <td>0.289100</td>\n    </tr>\n    <tr>\n      <td>6600</td>\n      <td>0.287400</td>\n    </tr>\n    <tr>\n      <td>6700</td>\n      <td>0.287100</td>\n    </tr>\n    <tr>\n      <td>6800</td>\n      <td>0.285600</td>\n    </tr>\n    <tr>\n      <td>6900</td>\n      <td>0.285800</td>\n    </tr>\n    <tr>\n      <td>7000</td>\n      <td>0.289200</td>\n    </tr>\n    <tr>\n      <td>7100</td>\n      <td>0.284900</td>\n    </tr>\n    <tr>\n      <td>7200</td>\n      <td>0.289800</td>\n    </tr>\n    <tr>\n      <td>7300</td>\n      <td>0.288300</td>\n    </tr>\n    <tr>\n      <td>7400</td>\n      <td>0.285200</td>\n    </tr>\n    <tr>\n      <td>7500</td>\n      <td>0.288600</td>\n    </tr>\n    <tr>\n      <td>7600</td>\n      <td>0.284800</td>\n    </tr>\n    <tr>\n      <td>7700</td>\n      <td>0.285400</td>\n    </tr>\n    <tr>\n      <td>7800</td>\n      <td>0.285300</td>\n    </tr>\n    <tr>\n      <td>7900</td>\n      <td>0.285900</td>\n    </tr>\n    <tr>\n      <td>8000</td>\n      <td>0.287600</td>\n    </tr>\n    <tr>\n      <td>8100</td>\n      <td>0.287200</td>\n    </tr>\n    <tr>\n      <td>8200</td>\n      <td>0.290400</td>\n    </tr>\n    <tr>\n      <td>8300</td>\n      <td>0.288200</td>\n    </tr>\n    <tr>\n      <td>8400</td>\n      <td>0.286300</td>\n    </tr>\n    <tr>\n      <td>8500</td>\n      <td>0.286600</td>\n    </tr>\n    <tr>\n      <td>8600</td>\n      <td>0.284800</td>\n    </tr>\n    <tr>\n      <td>8700</td>\n      <td>0.286100</td>\n    </tr>\n    <tr>\n      <td>8800</td>\n      <td>0.289500</td>\n    </tr>\n    <tr>\n      <td>8900</td>\n      <td>0.285000</td>\n    </tr>\n    <tr>\n      <td>9000</td>\n      <td>0.284600</td>\n    </tr>\n    <tr>\n      <td>9100</td>\n      <td>0.287400</td>\n    </tr>\n    <tr>\n      <td>9200</td>\n      <td>0.284700</td>\n    </tr>\n    <tr>\n      <td>9300</td>\n      <td>0.285200</td>\n    </tr>\n    <tr>\n      <td>9400</td>\n      <td>0.286000</td>\n    </tr>\n    <tr>\n      <td>9500</td>\n      <td>0.285700</td>\n    </tr>\n    <tr>\n      <td>9600</td>\n      <td>0.282300</td>\n    </tr>\n    <tr>\n      <td>9700</td>\n      <td>0.289400</td>\n    </tr>\n    <tr>\n      <td>9800</td>\n      <td>0.285200</td>\n    </tr>\n    <tr>\n      <td>9900</td>\n      <td>0.282800</td>\n    </tr>\n    <tr>\n      <td>10000</td>\n      <td>0.282000</td>\n    </tr>\n    <tr>\n      <td>10100</td>\n      <td>0.285000</td>\n    </tr>\n    <tr>\n      <td>10200</td>\n      <td>0.284500</td>\n    </tr>\n    <tr>\n      <td>10300</td>\n      <td>0.285900</td>\n    </tr>\n    <tr>\n      <td>10400</td>\n      <td>0.283500</td>\n    </tr>\n    <tr>\n      <td>10500</td>\n      <td>0.283200</td>\n    </tr>\n    <tr>\n      <td>10600</td>\n      <td>0.283900</td>\n    </tr>\n    <tr>\n      <td>10700</td>\n      <td>0.283800</td>\n    </tr>\n    <tr>\n      <td>10800</td>\n      <td>0.282500</td>\n    </tr>\n    <tr>\n      <td>10900</td>\n      <td>0.284500</td>\n    </tr>\n    <tr>\n      <td>11000</td>\n      <td>0.283000</td>\n    </tr>\n    <tr>\n      <td>11100</td>\n      <td>0.285200</td>\n    </tr>\n    <tr>\n      <td>11200</td>\n      <td>0.285900</td>\n    </tr>\n    <tr>\n      <td>11300</td>\n      <td>0.287500</td>\n    </tr>\n    <tr>\n      <td>11400</td>\n      <td>0.292900</td>\n    </tr>\n    <tr>\n      <td>11500</td>\n      <td>0.284500</td>\n    </tr>\n    <tr>\n      <td>11600</td>\n      <td>0.285100</td>\n    </tr>\n    <tr>\n      <td>11700</td>\n      <td>0.283400</td>\n    </tr>\n    <tr>\n      <td>11800</td>\n      <td>0.285000</td>\n    </tr>\n    <tr>\n      <td>11900</td>\n      <td>0.281000</td>\n    </tr>\n    <tr>\n      <td>12000</td>\n      <td>0.284100</td>\n    </tr>\n    <tr>\n      <td>12100</td>\n      <td>0.282900</td>\n    </tr>\n    <tr>\n      <td>12200</td>\n      <td>0.283700</td>\n    </tr>\n    <tr>\n      <td>12300</td>\n      <td>0.283900</td>\n    </tr>\n    <tr>\n      <td>12400</td>\n      <td>0.281900</td>\n    </tr>\n    <tr>\n      <td>12500</td>\n      <td>0.281900</td>\n    </tr>\n    <tr>\n      <td>12600</td>\n      <td>0.284200</td>\n    </tr>\n    <tr>\n      <td>12700</td>\n      <td>0.284500</td>\n    </tr>\n    <tr>\n      <td>12800</td>\n      <td>0.283900</td>\n    </tr>\n    <tr>\n      <td>12900</td>\n      <td>0.282000</td>\n    </tr>\n    <tr>\n      <td>13000</td>\n      <td>0.278800</td>\n    </tr>\n    <tr>\n      <td>13100</td>\n      <td>0.286300</td>\n    </tr>\n    <tr>\n      <td>13200</td>\n      <td>0.285000</td>\n    </tr>\n    <tr>\n      <td>13300</td>\n      <td>0.283800</td>\n    </tr>\n    <tr>\n      <td>13400</td>\n      <td>0.279100</td>\n    </tr>\n    <tr>\n      <td>13500</td>\n      <td>0.283500</td>\n    </tr>\n    <tr>\n      <td>13600</td>\n      <td>0.283100</td>\n    </tr>\n    <tr>\n      <td>13700</td>\n      <td>0.280000</td>\n    </tr>\n    <tr>\n      <td>13800</td>\n      <td>0.284600</td>\n    </tr>\n    <tr>\n      <td>13900</td>\n      <td>0.282300</td>\n    </tr>\n    <tr>\n      <td>14000</td>\n      <td>0.282700</td>\n    </tr>\n    <tr>\n      <td>14100</td>\n      <td>0.282200</td>\n    </tr>\n    <tr>\n      <td>14200</td>\n      <td>0.282300</td>\n    </tr>\n    <tr>\n      <td>14300</td>\n      <td>0.282900</td>\n    </tr>\n    <tr>\n      <td>14400</td>\n      <td>0.283800</td>\n    </tr>\n    <tr>\n      <td>14500</td>\n      <td>0.283800</td>\n    </tr>\n    <tr>\n      <td>14600</td>\n      <td>0.283700</td>\n    </tr>\n    <tr>\n      <td>14700</td>\n      <td>0.281300</td>\n    </tr>\n    <tr>\n      <td>14800</td>\n      <td>0.281900</td>\n    </tr>\n    <tr>\n      <td>14900</td>\n      <td>0.280400</td>\n    </tr>\n    <tr>\n      <td>15000</td>\n      <td>0.283200</td>\n    </tr>\n    <tr>\n      <td>15100</td>\n      <td>0.286000</td>\n    </tr>\n    <tr>\n      <td>15200</td>\n      <td>0.281500</td>\n    </tr>\n    <tr>\n      <td>15300</td>\n      <td>0.283500</td>\n    </tr>\n    <tr>\n      <td>15400</td>\n      <td>0.284700</td>\n    </tr>\n    <tr>\n      <td>15500</td>\n      <td>0.283200</td>\n    </tr>\n    <tr>\n      <td>15600</td>\n      <td>0.281400</td>\n    </tr>\n    <tr>\n      <td>15700</td>\n      <td>0.283100</td>\n    </tr>\n    <tr>\n      <td>15800</td>\n      <td>0.282600</td>\n    </tr>\n    <tr>\n      <td>15900</td>\n      <td>0.283700</td>\n    </tr>\n    <tr>\n      <td>16000</td>\n      <td>0.283400</td>\n    </tr>\n    <tr>\n      <td>16100</td>\n      <td>0.283900</td>\n    </tr>\n    <tr>\n      <td>16200</td>\n      <td>0.280900</td>\n    </tr>\n    <tr>\n      <td>16300</td>\n      <td>0.279800</td>\n    </tr>\n    <tr>\n      <td>16400</td>\n      <td>0.280400</td>\n    </tr>\n    <tr>\n      <td>16500</td>\n      <td>0.284200</td>\n    </tr>\n    <tr>\n      <td>16600</td>\n      <td>0.282500</td>\n    </tr>\n    <tr>\n      <td>16700</td>\n      <td>0.283600</td>\n    </tr>\n    <tr>\n      <td>16800</td>\n      <td>0.281400</td>\n    </tr>\n    <tr>\n      <td>16900</td>\n      <td>0.283400</td>\n    </tr>\n    <tr>\n      <td>17000</td>\n      <td>0.283400</td>\n    </tr>\n    <tr>\n      <td>17100</td>\n      <td>0.284500</td>\n    </tr>\n    <tr>\n      <td>17200</td>\n      <td>0.281400</td>\n    </tr>\n    <tr>\n      <td>17300</td>\n      <td>0.279400</td>\n    </tr>\n    <tr>\n      <td>17400</td>\n      <td>0.279900</td>\n    </tr>\n    <tr>\n      <td>17500</td>\n      <td>0.282500</td>\n    </tr>\n    <tr>\n      <td>17600</td>\n      <td>0.280200</td>\n    </tr>\n    <tr>\n      <td>17700</td>\n      <td>0.280200</td>\n    </tr>\n    <tr>\n      <td>17800</td>\n      <td>0.283200</td>\n    </tr>\n    <tr>\n      <td>17900</td>\n      <td>0.283100</td>\n    </tr>\n    <tr>\n      <td>18000</td>\n      <td>0.282900</td>\n    </tr>\n    <tr>\n      <td>18100</td>\n      <td>0.281500</td>\n    </tr>\n    <tr>\n      <td>18200</td>\n      <td>0.279200</td>\n    </tr>\n    <tr>\n      <td>18300</td>\n      <td>0.285200</td>\n    </tr>\n    <tr>\n      <td>18400</td>\n      <td>0.279200</td>\n    </tr>\n    <tr>\n      <td>18500</td>\n      <td>0.283700</td>\n    </tr>\n    <tr>\n      <td>18600</td>\n      <td>0.277300</td>\n    </tr>\n    <tr>\n      <td>18700</td>\n      <td>0.280300</td>\n    </tr>\n    <tr>\n      <td>18800</td>\n      <td>0.280000</td>\n    </tr>\n    <tr>\n      <td>18900</td>\n      <td>0.283400</td>\n    </tr>\n    <tr>\n      <td>19000</td>\n      <td>0.276800</td>\n    </tr>\n    <tr>\n      <td>19100</td>\n      <td>0.282200</td>\n    </tr>\n    <tr>\n      <td>19200</td>\n      <td>0.279900</td>\n    </tr>\n    <tr>\n      <td>19300</td>\n      <td>0.280800</td>\n    </tr>\n    <tr>\n      <td>19400</td>\n      <td>0.280300</td>\n    </tr>\n    <tr>\n      <td>19500</td>\n      <td>0.280800</td>\n    </tr>\n    <tr>\n      <td>19600</td>\n      <td>0.276900</td>\n    </tr>\n    <tr>\n      <td>19700</td>\n      <td>0.277200</td>\n    </tr>\n    <tr>\n      <td>19800</td>\n      <td>0.280000</td>\n    </tr>\n    <tr>\n      <td>19900</td>\n      <td>0.282100</td>\n    </tr>\n    <tr>\n      <td>20000</td>\n      <td>0.278800</td>\n    </tr>\n    <tr>\n      <td>20100</td>\n      <td>0.279100</td>\n    </tr>\n    <tr>\n      <td>20200</td>\n      <td>0.280100</td>\n    </tr>\n    <tr>\n      <td>20300</td>\n      <td>0.280900</td>\n    </tr>\n    <tr>\n      <td>20400</td>\n      <td>0.282500</td>\n    </tr>\n    <tr>\n      <td>20500</td>\n      <td>0.279300</td>\n    </tr>\n    <tr>\n      <td>20600</td>\n      <td>0.278800</td>\n    </tr>\n    <tr>\n      <td>20700</td>\n      <td>0.282400</td>\n    </tr>\n    <tr>\n      <td>20800</td>\n      <td>0.279000</td>\n    </tr>\n    <tr>\n      <td>20900</td>\n      <td>0.281800</td>\n    </tr>\n    <tr>\n      <td>21000</td>\n      <td>0.281300</td>\n    </tr>\n    <tr>\n      <td>21100</td>\n      <td>0.281800</td>\n    </tr>\n    <tr>\n      <td>21200</td>\n      <td>0.279700</td>\n    </tr>\n    <tr>\n      <td>21300</td>\n      <td>0.277100</td>\n    </tr>\n    <tr>\n      <td>21400</td>\n      <td>0.280200</td>\n    </tr>\n    <tr>\n      <td>21500</td>\n      <td>0.280800</td>\n    </tr>\n    <tr>\n      <td>21600</td>\n      <td>0.278300</td>\n    </tr>\n    <tr>\n      <td>21700</td>\n      <td>0.281500</td>\n    </tr>\n    <tr>\n      <td>21800</td>\n      <td>0.281000</td>\n    </tr>\n    <tr>\n      <td>21900</td>\n      <td>0.279400</td>\n    </tr>\n    <tr>\n      <td>22000</td>\n      <td>0.280800</td>\n    </tr>\n    <tr>\n      <td>22100</td>\n      <td>0.276700</td>\n    </tr>\n    <tr>\n      <td>22200</td>\n      <td>0.278900</td>\n    </tr>\n    <tr>\n      <td>22300</td>\n      <td>0.278800</td>\n    </tr>\n    <tr>\n      <td>22400</td>\n      <td>0.279300</td>\n    </tr>\n    <tr>\n      <td>22500</td>\n      <td>0.280600</td>\n    </tr>\n    <tr>\n      <td>22600</td>\n      <td>0.281500</td>\n    </tr>\n    <tr>\n      <td>22700</td>\n      <td>0.279900</td>\n    </tr>\n    <tr>\n      <td>22800</td>\n      <td>0.279200</td>\n    </tr>\n    <tr>\n      <td>22900</td>\n      <td>0.281200</td>\n    </tr>\n    <tr>\n      <td>23000</td>\n      <td>0.280900</td>\n    </tr>\n    <tr>\n      <td>23100</td>\n      <td>0.278900</td>\n    </tr>\n    <tr>\n      <td>23200</td>\n      <td>0.280800</td>\n    </tr>\n    <tr>\n      <td>23300</td>\n      <td>0.279800</td>\n    </tr>\n    <tr>\n      <td>23400</td>\n      <td>0.279100</td>\n    </tr>\n    <tr>\n      <td>23500</td>\n      <td>0.279300</td>\n    </tr>\n    <tr>\n      <td>23600</td>\n      <td>0.279700</td>\n    </tr>\n    <tr>\n      <td>23700</td>\n      <td>0.279900</td>\n    </tr>\n    <tr>\n      <td>23800</td>\n      <td>0.280100</td>\n    </tr>\n    <tr>\n      <td>23900</td>\n      <td>0.277900</td>\n    </tr>\n    <tr>\n      <td>24000</td>\n      <td>0.278400</td>\n    </tr>\n    <tr>\n      <td>24100</td>\n      <td>0.281900</td>\n    </tr>\n    <tr>\n      <td>24200</td>\n      <td>0.279900</td>\n    </tr>\n    <tr>\n      <td>24300</td>\n      <td>0.281500</td>\n    </tr>\n    <tr>\n      <td>24400</td>\n      <td>0.278900</td>\n    </tr>\n    <tr>\n      <td>24500</td>\n      <td>0.280900</td>\n    </tr>\n    <tr>\n      <td>24600</td>\n      <td>0.278300</td>\n    </tr>\n    <tr>\n      <td>24700</td>\n      <td>0.281600</td>\n    </tr>\n    <tr>\n      <td>24800</td>\n      <td>0.279100</td>\n    </tr>\n    <tr>\n      <td>24900</td>\n      <td>0.276800</td>\n    </tr>\n    <tr>\n      <td>25000</td>\n      <td>0.280700</td>\n    </tr>\n    <tr>\n      <td>25100</td>\n      <td>0.280500</td>\n    </tr>\n    <tr>\n      <td>25200</td>\n      <td>0.277800</td>\n    </tr>\n    <tr>\n      <td>25300</td>\n      <td>0.280300</td>\n    </tr>\n    <tr>\n      <td>25400</td>\n      <td>0.279700</td>\n    </tr>\n    <tr>\n      <td>25500</td>\n      <td>0.281900</td>\n    </tr>\n    <tr>\n      <td>25600</td>\n      <td>0.277400</td>\n    </tr>\n    <tr>\n      <td>25700</td>\n      <td>0.278600</td>\n    </tr>\n    <tr>\n      <td>25800</td>\n      <td>0.280600</td>\n    </tr>\n    <tr>\n      <td>25900</td>\n      <td>0.280000</td>\n    </tr>\n    <tr>\n      <td>26000</td>\n      <td>0.281400</td>\n    </tr>\n    <tr>\n      <td>26100</td>\n      <td>0.278800</td>\n    </tr>\n    <tr>\n      <td>26200</td>\n      <td>0.279400</td>\n    </tr>\n    <tr>\n      <td>26300</td>\n      <td>0.276800</td>\n    </tr>\n    <tr>\n      <td>26400</td>\n      <td>0.284700</td>\n    </tr>\n    <tr>\n      <td>26500</td>\n      <td>0.280800</td>\n    </tr>\n    <tr>\n      <td>26600</td>\n      <td>0.279200</td>\n    </tr>\n    <tr>\n      <td>26700</td>\n      <td>0.277900</td>\n    </tr>\n    <tr>\n      <td>26800</td>\n      <td>0.277000</td>\n    </tr>\n    <tr>\n      <td>26900</td>\n      <td>0.278300</td>\n    </tr>\n    <tr>\n      <td>27000</td>\n      <td>0.280300</td>\n    </tr>\n    <tr>\n      <td>27100</td>\n      <td>0.281200</td>\n    </tr>\n    <tr>\n      <td>27200</td>\n      <td>0.278400</td>\n    </tr>\n    <tr>\n      <td>27300</td>\n      <td>0.281600</td>\n    </tr>\n    <tr>\n      <td>27400</td>\n      <td>0.279800</td>\n    </tr>\n    <tr>\n      <td>27500</td>\n      <td>0.277700</td>\n    </tr>\n    <tr>\n      <td>27600</td>\n      <td>0.278300</td>\n    </tr>\n    <tr>\n      <td>27700</td>\n      <td>0.280100</td>\n    </tr>\n    <tr>\n      <td>27800</td>\n      <td>0.281500</td>\n    </tr>\n    <tr>\n      <td>27900</td>\n      <td>0.279900</td>\n    </tr>\n    <tr>\n      <td>28000</td>\n      <td>0.278200</td>\n    </tr>\n    <tr>\n      <td>28100</td>\n      <td>0.278000</td>\n    </tr>\n    <tr>\n      <td>28200</td>\n      <td>0.278300</td>\n    </tr>\n    <tr>\n      <td>28300</td>\n      <td>0.279600</td>\n    </tr>\n    <tr>\n      <td>28400</td>\n      <td>0.277700</td>\n    </tr>\n    <tr>\n      <td>28500</td>\n      <td>0.278600</td>\n    </tr>\n    <tr>\n      <td>28600</td>\n      <td>0.279800</td>\n    </tr>\n    <tr>\n      <td>28700</td>\n      <td>0.278300</td>\n    </tr>\n    <tr>\n      <td>28800</td>\n      <td>0.279000</td>\n    </tr>\n    <tr>\n      <td>28900</td>\n      <td>0.278900</td>\n    </tr>\n    <tr>\n      <td>29000</td>\n      <td>0.276600</td>\n    </tr>\n    <tr>\n      <td>29100</td>\n      <td>0.282300</td>\n    </tr>\n    <tr>\n      <td>29200</td>\n      <td>0.279800</td>\n    </tr>\n    <tr>\n      <td>29300</td>\n      <td>0.277700</td>\n    </tr>\n    <tr>\n      <td>29400</td>\n      <td>0.280100</td>\n    </tr>\n    <tr>\n      <td>29500</td>\n      <td>0.282700</td>\n    </tr>\n    <tr>\n      <td>29600</td>\n      <td>0.279600</td>\n    </tr>\n    <tr>\n      <td>29700</td>\n      <td>0.281400</td>\n    </tr>\n    <tr>\n      <td>29800</td>\n      <td>0.279500</td>\n    </tr>\n    <tr>\n      <td>29900</td>\n      <td>0.276100</td>\n    </tr>\n    <tr>\n      <td>30000</td>\n      <td>0.271200</td>\n    </tr>\n    <tr>\n      <td>30100</td>\n      <td>0.277400</td>\n    </tr>\n    <tr>\n      <td>30200</td>\n      <td>0.277800</td>\n    </tr>\n    <tr>\n      <td>30300</td>\n      <td>0.279300</td>\n    </tr>\n    <tr>\n      <td>30400</td>\n      <td>0.278500</td>\n    </tr>\n    <tr>\n      <td>30500</td>\n      <td>0.278800</td>\n    </tr>\n    <tr>\n      <td>30600</td>\n      <td>0.279000</td>\n    </tr>\n    <tr>\n      <td>30700</td>\n      <td>0.277000</td>\n    </tr>\n    <tr>\n      <td>30800</td>\n      <td>0.279700</td>\n    </tr>\n    <tr>\n      <td>30900</td>\n      <td>0.278600</td>\n    </tr>\n    <tr>\n      <td>31000</td>\n      <td>0.279100</td>\n    </tr>\n    <tr>\n      <td>31100</td>\n      <td>0.279300</td>\n    </tr>\n    <tr>\n      <td>31200</td>\n      <td>0.278900</td>\n    </tr>\n    <tr>\n      <td>31300</td>\n      <td>0.278400</td>\n    </tr>\n    <tr>\n      <td>31400</td>\n      <td>0.278900</td>\n    </tr>\n    <tr>\n      <td>31500</td>\n      <td>0.279600</td>\n    </tr>\n    <tr>\n      <td>31600</td>\n      <td>0.277900</td>\n    </tr>\n    <tr>\n      <td>31700</td>\n      <td>0.278400</td>\n    </tr>\n    <tr>\n      <td>31800</td>\n      <td>0.278900</td>\n    </tr>\n    <tr>\n      <td>31900</td>\n      <td>0.273400</td>\n    </tr>\n    <tr>\n      <td>32000</td>\n      <td>0.277600</td>\n    </tr>\n    <tr>\n      <td>32100</td>\n      <td>0.278600</td>\n    </tr>\n    <tr>\n      <td>32200</td>\n      <td>0.280100</td>\n    </tr>\n    <tr>\n      <td>32300</td>\n      <td>0.279500</td>\n    </tr>\n    <tr>\n      <td>32400</td>\n      <td>0.275300</td>\n    </tr>\n    <tr>\n      <td>32500</td>\n      <td>0.280300</td>\n    </tr>\n    <tr>\n      <td>32600</td>\n      <td>0.281400</td>\n    </tr>\n    <tr>\n      <td>32700</td>\n      <td>0.275700</td>\n    </tr>\n    <tr>\n      <td>32800</td>\n      <td>0.281500</td>\n    </tr>\n    <tr>\n      <td>32900</td>\n      <td>0.278800</td>\n    </tr>\n    <tr>\n      <td>33000</td>\n      <td>0.279200</td>\n    </tr>\n    <tr>\n      <td>33100</td>\n      <td>0.279000</td>\n    </tr>\n    <tr>\n      <td>33200</td>\n      <td>0.277000</td>\n    </tr>\n    <tr>\n      <td>33300</td>\n      <td>0.275700</td>\n    </tr>\n    <tr>\n      <td>33400</td>\n      <td>0.277200</td>\n    </tr>\n    <tr>\n      <td>33500</td>\n      <td>0.279200</td>\n    </tr>\n    <tr>\n      <td>33600</td>\n      <td>0.277400</td>\n    </tr>\n    <tr>\n      <td>33700</td>\n      <td>0.279500</td>\n    </tr>\n    <tr>\n      <td>33800</td>\n      <td>0.277200</td>\n    </tr>\n    <tr>\n      <td>33900</td>\n      <td>0.277600</td>\n    </tr>\n    <tr>\n      <td>34000</td>\n      <td>0.275300</td>\n    </tr>\n    <tr>\n      <td>34100</td>\n      <td>0.280200</td>\n    </tr>\n    <tr>\n      <td>34200</td>\n      <td>0.280000</td>\n    </tr>\n    <tr>\n      <td>34300</td>\n      <td>0.279000</td>\n    </tr>\n    <tr>\n      <td>34400</td>\n      <td>0.278100</td>\n    </tr>\n    <tr>\n      <td>34500</td>\n      <td>0.279500</td>\n    </tr>\n    <tr>\n      <td>34600</td>\n      <td>0.277700</td>\n    </tr>\n    <tr>\n      <td>34700</td>\n      <td>0.278100</td>\n    </tr>\n    <tr>\n      <td>34800</td>\n      <td>0.276700</td>\n    </tr>\n    <tr>\n      <td>34900</td>\n      <td>0.277600</td>\n    </tr>\n    <tr>\n      <td>35000</td>\n      <td>0.277100</td>\n    </tr>\n    <tr>\n      <td>35100</td>\n      <td>0.277900</td>\n    </tr>\n    <tr>\n      <td>35200</td>\n      <td>0.277000</td>\n    </tr>\n    <tr>\n      <td>35300</td>\n      <td>0.275600</td>\n    </tr>\n    <tr>\n      <td>35400</td>\n      <td>0.278200</td>\n    </tr>\n    <tr>\n      <td>35500</td>\n      <td>0.276100</td>\n    </tr>\n    <tr>\n      <td>35600</td>\n      <td>0.277000</td>\n    </tr>\n    <tr>\n      <td>35700</td>\n      <td>0.278900</td>\n    </tr>\n    <tr>\n      <td>35800</td>\n      <td>0.276100</td>\n    </tr>\n    <tr>\n      <td>35900</td>\n      <td>0.277200</td>\n    </tr>\n    <tr>\n      <td>36000</td>\n      <td>0.277300</td>\n    </tr>\n    <tr>\n      <td>36100</td>\n      <td>0.275800</td>\n    </tr>\n    <tr>\n      <td>36200</td>\n      <td>0.278900</td>\n    </tr>\n    <tr>\n      <td>36300</td>\n      <td>0.278600</td>\n    </tr>\n    <tr>\n      <td>36400</td>\n      <td>0.276200</td>\n    </tr>\n    <tr>\n      <td>36500</td>\n      <td>0.275900</td>\n    </tr>\n    <tr>\n      <td>36600</td>\n      <td>0.277000</td>\n    </tr>\n    <tr>\n      <td>36700</td>\n      <td>0.279200</td>\n    </tr>\n    <tr>\n      <td>36800</td>\n      <td>0.280300</td>\n    </tr>\n    <tr>\n      <td>36900</td>\n      <td>0.276200</td>\n    </tr>\n    <tr>\n      <td>37000</td>\n      <td>0.278300</td>\n    </tr>\n    <tr>\n      <td>37100</td>\n      <td>0.275700</td>\n    </tr>\n    <tr>\n      <td>37200</td>\n      <td>0.280400</td>\n    </tr>\n    <tr>\n      <td>37300</td>\n      <td>0.277200</td>\n    </tr>\n    <tr>\n      <td>37400</td>\n      <td>0.279400</td>\n    </tr>\n    <tr>\n      <td>37500</td>\n      <td>0.276300</td>\n    </tr>\n    <tr>\n      <td>37600</td>\n      <td>0.276700</td>\n    </tr>\n    <tr>\n      <td>37700</td>\n      <td>0.280200</td>\n    </tr>\n    <tr>\n      <td>37800</td>\n      <td>0.277000</td>\n    </tr>\n    <tr>\n      <td>37900</td>\n      <td>0.280000</td>\n    </tr>\n    <tr>\n      <td>38000</td>\n      <td>0.277100</td>\n    </tr>\n    <tr>\n      <td>38100</td>\n      <td>0.279100</td>\n    </tr>\n    <tr>\n      <td>38200</td>\n      <td>0.278000</td>\n    </tr>\n    <tr>\n      <td>38300</td>\n      <td>0.276200</td>\n    </tr>\n    <tr>\n      <td>38400</td>\n      <td>0.278000</td>\n    </tr>\n    <tr>\n      <td>38500</td>\n      <td>0.276100</td>\n    </tr>\n    <tr>\n      <td>38600</td>\n      <td>0.274600</td>\n    </tr>\n    <tr>\n      <td>38700</td>\n      <td>0.278400</td>\n    </tr>\n    <tr>\n      <td>38800</td>\n      <td>0.278600</td>\n    </tr>\n    <tr>\n      <td>38900</td>\n      <td>0.275700</td>\n    </tr>\n    <tr>\n      <td>39000</td>\n      <td>0.275400</td>\n    </tr>\n    <tr>\n      <td>39100</td>\n      <td>0.275700</td>\n    </tr>\n    <tr>\n      <td>39200</td>\n      <td>0.279200</td>\n    </tr>\n    <tr>\n      <td>39300</td>\n      <td>0.279000</td>\n    </tr>\n    <tr>\n      <td>39400</td>\n      <td>0.276000</td>\n    </tr>\n    <tr>\n      <td>39500</td>\n      <td>0.276600</td>\n    </tr>\n    <tr>\n      <td>39600</td>\n      <td>0.278400</td>\n    </tr>\n    <tr>\n      <td>39700</td>\n      <td>0.276600</td>\n    </tr>\n    <tr>\n      <td>39800</td>\n      <td>0.278900</td>\n    </tr>\n    <tr>\n      <td>39900</td>\n      <td>0.276800</td>\n    </tr>\n    <tr>\n      <td>40000</td>\n      <td>0.278100</td>\n    </tr>\n    <tr>\n      <td>40100</td>\n      <td>0.278600</td>\n    </tr>\n    <tr>\n      <td>40200</td>\n      <td>0.275300</td>\n    </tr>\n    <tr>\n      <td>40300</td>\n      <td>0.274500</td>\n    </tr>\n    <tr>\n      <td>40400</td>\n      <td>0.275600</td>\n    </tr>\n    <tr>\n      <td>40500</td>\n      <td>0.279000</td>\n    </tr>\n    <tr>\n      <td>40600</td>\n      <td>0.275200</td>\n    </tr>\n    <tr>\n      <td>40700</td>\n      <td>0.278600</td>\n    </tr>\n    <tr>\n      <td>40800</td>\n      <td>0.279300</td>\n    </tr>\n    <tr>\n      <td>40900</td>\n      <td>0.275800</td>\n    </tr>\n    <tr>\n      <td>41000</td>\n      <td>0.276800</td>\n    </tr>\n    <tr>\n      <td>41100</td>\n      <td>0.275700</td>\n    </tr>\n    <tr>\n      <td>41200</td>\n      <td>0.280300</td>\n    </tr>\n    <tr>\n      <td>41300</td>\n      <td>0.276800</td>\n    </tr>\n    <tr>\n      <td>41400</td>\n      <td>0.278800</td>\n    </tr>\n    <tr>\n      <td>41500</td>\n      <td>0.276600</td>\n    </tr>\n    <tr>\n      <td>41600</td>\n      <td>0.277500</td>\n    </tr>\n    <tr>\n      <td>41700</td>\n      <td>0.278900</td>\n    </tr>\n    <tr>\n      <td>41800</td>\n      <td>0.277200</td>\n    </tr>\n    <tr>\n      <td>41900</td>\n      <td>0.279300</td>\n    </tr>\n    <tr>\n      <td>42000</td>\n      <td>0.279300</td>\n    </tr>\n    <tr>\n      <td>42100</td>\n      <td>0.277200</td>\n    </tr>\n    <tr>\n      <td>42200</td>\n      <td>0.278200</td>\n    </tr>\n    <tr>\n      <td>42300</td>\n      <td>0.276100</td>\n    </tr>\n    <tr>\n      <td>42400</td>\n      <td>0.276300</td>\n    </tr>\n    <tr>\n      <td>42500</td>\n      <td>0.277300</td>\n    </tr>\n    <tr>\n      <td>42600</td>\n      <td>0.274900</td>\n    </tr>\n    <tr>\n      <td>42700</td>\n      <td>0.277800</td>\n    </tr>\n    <tr>\n      <td>42800</td>\n      <td>0.276300</td>\n    </tr>\n    <tr>\n      <td>42900</td>\n      <td>0.278800</td>\n    </tr>\n    <tr>\n      <td>43000</td>\n      <td>0.277300</td>\n    </tr>\n    <tr>\n      <td>43100</td>\n      <td>0.277900</td>\n    </tr>\n    <tr>\n      <td>43200</td>\n      <td>0.276200</td>\n    </tr>\n    <tr>\n      <td>43300</td>\n      <td>0.276100</td>\n    </tr>\n    <tr>\n      <td>43400</td>\n      <td>0.277300</td>\n    </tr>\n    <tr>\n      <td>43500</td>\n      <td>0.275900</td>\n    </tr>\n    <tr>\n      <td>43600</td>\n      <td>0.279100</td>\n    </tr>\n    <tr>\n      <td>43700</td>\n      <td>0.278200</td>\n    </tr>\n    <tr>\n      <td>43800</td>\n      <td>0.276600</td>\n    </tr>\n    <tr>\n      <td>43900</td>\n      <td>0.274300</td>\n    </tr>\n    <tr>\n      <td>44000</td>\n      <td>0.275600</td>\n    </tr>\n    <tr>\n      <td>44100</td>\n      <td>0.275200</td>\n    </tr>\n    <tr>\n      <td>44200</td>\n      <td>0.278300</td>\n    </tr>\n    <tr>\n      <td>44300</td>\n      <td>0.276600</td>\n    </tr>\n    <tr>\n      <td>44400</td>\n      <td>0.278600</td>\n    </tr>\n    <tr>\n      <td>44500</td>\n      <td>0.276600</td>\n    </tr>\n    <tr>\n      <td>44600</td>\n      <td>0.279800</td>\n    </tr>\n    <tr>\n      <td>44700</td>\n      <td>0.275200</td>\n    </tr>\n    <tr>\n      <td>44800</td>\n      <td>0.277300</td>\n    </tr>\n    <tr>\n      <td>44900</td>\n      <td>0.277700</td>\n    </tr>\n    <tr>\n      <td>45000</td>\n      <td>0.278200</td>\n    </tr>\n    <tr>\n      <td>45100</td>\n      <td>0.278200</td>\n    </tr>\n    <tr>\n      <td>45200</td>\n      <td>0.278700</td>\n    </tr>\n    <tr>\n      <td>45300</td>\n      <td>0.278700</td>\n    </tr>\n    <tr>\n      <td>45400</td>\n      <td>0.275900</td>\n    </tr>\n    <tr>\n      <td>45500</td>\n      <td>0.274900</td>\n    </tr>\n    <tr>\n      <td>45600</td>\n      <td>0.276200</td>\n    </tr>\n    <tr>\n      <td>45700</td>\n      <td>0.274400</td>\n    </tr>\n    <tr>\n      <td>45800</td>\n      <td>0.274500</td>\n    </tr>\n    <tr>\n      <td>45900</td>\n      <td>0.276100</td>\n    </tr>\n    <tr>\n      <td>46000</td>\n      <td>0.274600</td>\n    </tr>\n    <tr>\n      <td>46100</td>\n      <td>0.277500</td>\n    </tr>\n    <tr>\n      <td>46200</td>\n      <td>0.274300</td>\n    </tr>\n    <tr>\n      <td>46300</td>\n      <td>0.276500</td>\n    </tr>\n    <tr>\n      <td>46400</td>\n      <td>0.277000</td>\n    </tr>\n    <tr>\n      <td>46500</td>\n      <td>0.277800</td>\n    </tr>\n    <tr>\n      <td>46600</td>\n      <td>0.276200</td>\n    </tr>\n    <tr>\n      <td>46700</td>\n      <td>0.277400</td>\n    </tr>\n    <tr>\n      <td>46800</td>\n      <td>0.276700</td>\n    </tr>\n    <tr>\n      <td>46900</td>\n      <td>0.276300</td>\n    </tr>\n    <tr>\n      <td>47000</td>\n      <td>0.277200</td>\n    </tr>\n    <tr>\n      <td>47100</td>\n      <td>0.273800</td>\n    </tr>\n    <tr>\n      <td>47200</td>\n      <td>0.276600</td>\n    </tr>\n    <tr>\n      <td>47300</td>\n      <td>0.277600</td>\n    </tr>\n    <tr>\n      <td>47400</td>\n      <td>0.278500</td>\n    </tr>\n    <tr>\n      <td>47500</td>\n      <td>0.277800</td>\n    </tr>\n    <tr>\n      <td>47600</td>\n      <td>0.275100</td>\n    </tr>\n    <tr>\n      <td>47700</td>\n      <td>0.275300</td>\n    </tr>\n    <tr>\n      <td>47800</td>\n      <td>0.274900</td>\n    </tr>\n    <tr>\n      <td>47900</td>\n      <td>0.276600</td>\n    </tr>\n    <tr>\n      <td>48000</td>\n      <td>0.275700</td>\n    </tr>\n    <tr>\n      <td>48100</td>\n      <td>0.275300</td>\n    </tr>\n    <tr>\n      <td>48200</td>\n      <td>0.276700</td>\n    </tr>\n    <tr>\n      <td>48300</td>\n      <td>0.274300</td>\n    </tr>\n    <tr>\n      <td>48400</td>\n      <td>0.277200</td>\n    </tr>\n    <tr>\n      <td>48500</td>\n      <td>0.274300</td>\n    </tr>\n    <tr>\n      <td>48600</td>\n      <td>0.276100</td>\n    </tr>\n    <tr>\n      <td>48700</td>\n      <td>0.277000</td>\n    </tr>\n    <tr>\n      <td>48800</td>\n      <td>0.275800</td>\n    </tr>\n    <tr>\n      <td>48900</td>\n      <td>0.272800</td>\n    </tr>\n    <tr>\n      <td>49000</td>\n      <td>0.275400</td>\n    </tr>\n    <tr>\n      <td>49100</td>\n      <td>0.275400</td>\n    </tr>\n    <tr>\n      <td>49200</td>\n      <td>0.277200</td>\n    </tr>\n    <tr>\n      <td>49300</td>\n      <td>0.277700</td>\n    </tr>\n    <tr>\n      <td>49400</td>\n      <td>0.275600</td>\n    </tr>\n    <tr>\n      <td>49500</td>\n      <td>0.276800</td>\n    </tr>\n    <tr>\n      <td>49600</td>\n      <td>0.277700</td>\n    </tr>\n    <tr>\n      <td>49700</td>\n      <td>0.277100</td>\n    </tr>\n    <tr>\n      <td>49800</td>\n      <td>0.277900</td>\n    </tr>\n    <tr>\n      <td>49900</td>\n      <td>0.275600</td>\n    </tr>\n    <tr>\n      <td>50000</td>\n      <td>0.276600</td>\n    </tr>\n  </tbody>\n</table><p>"
          },
          "metadata": {}
        },
        {
          "execution_count": 7,
          "output_type": "execute_result",
          "data": {
            "text/plain": "TrainOutput(global_step=50000, training_loss=0.2848092858505249, metrics={'train_runtime': 4605.364, 'train_samples_per_second': 86.855, 'train_steps_per_second': 10.857, 'total_flos': 3055463285760000.0, 'train_loss': 0.2848092858505249, 'epoch': 2.0})"
          },
          "metadata": {}
        }
      ],
      "execution_count": null
    },
    {
      "cell_type": "code",
      "source": [
        "# Step 8: Save the final fine-tuned model\n",
        "model.save_pretrained(\"/content/gpt2-motivational-final\")\n",
        "tokenizer.save_pretrained(\"/content/gpt2-motivational-final\")\n",
        "\n",
        "# Step 9: Load the fine-tuned model for inference\n",
        "from transformers import GPT2LMHeadModel, GPT2Tokenizer\n",
        "\n",
        "# Load the fine-tuned model and tokenizer\n",
        "model_path = \"/content/gpt2-motivational-final\"\n",
        "model = GPT2LMHeadModel.from_pretrained(model_path)\n",
        "tokenizer = GPT2Tokenizer.from_pretrained(model_path)"
      ],
      "metadata": {
        "trusted": true,
        "execution": {
          "iopub.status.busy": "2025-05-20T22:47:29.563561Z",
          "iopub.execute_input": "2025-05-20T22:47:29.564247Z",
          "iopub.status.idle": "2025-05-20T22:47:34.370664Z",
          "shell.execute_reply.started": "2025-05-20T22:47:29.564224Z",
          "shell.execute_reply": "2025-05-20T22:47:34.369954Z"
        },
        "id": "bTALvBNK_2WY"
      },
      "outputs": [],
      "execution_count": null
    },
    {
      "cell_type": "code",
      "source": [
        "# Function to generate a motivational quote based on the input prompt\n",
        "def generate_quote(prompt, max_length=50):\n",
        "    inputs = tokenizer(prompt, return_tensors=\"pt\")\n",
        "    outputs = model.generate(\n",
        "        **inputs,\n",
        "        do_sample=True,\n",
        "        max_length=max_length,\n",
        "        top_k=50,\n",
        "        top_p=0.9,\n",
        "        temperature=0.9,\n",
        "        pad_token_id=tokenizer.eos_token_id\n",
        "    )\n",
        "    return tokenizer.decode(outputs[0], skip_special_tokens=True)\n"
      ],
      "metadata": {
        "trusted": true,
        "execution": {
          "iopub.status.busy": "2025-05-20T22:47:36.723386Z",
          "iopub.execute_input": "2025-05-20T22:47:36.723659Z",
          "iopub.status.idle": "2025-05-20T22:47:36.728168Z",
          "shell.execute_reply.started": "2025-05-20T22:47:36.723639Z",
          "shell.execute_reply": "2025-05-20T22:47:36.727433Z"
        },
        "id": "B3zoOikK_2Wa"
      },
      "outputs": [],
      "execution_count": null
    },
    {
      "cell_type": "code",
      "source": [
        "# Step 10: Function to detect category keyword in user's prompt\n",
        "def detect_category(user_input):\n",
        "    text = user_input.lower()\n",
        "    if any(word in text for word in [\"study\", \"learn\", \"school\", \"education\", \"exam\", \"book\"]):\n",
        "        return \"[STUDY]\"\n",
        "    elif any(word in text for word in [\"money\", \"finance\", \"rich\", \"cash\", \"invest\", \"wealth\", \"income\"]):\n",
        "        return \"[MONEY]\"\n",
        "    elif any(word in text for word in [\"sport\", \"win\", \"train\", \"gym\", \"exercise\", \"athletic\", \"fitness\"]):\n",
        "        return \"[SPORT]\"\n",
        "    else:\n",
        "        return \"[GENERAL]\"\n"
      ],
      "metadata": {
        "trusted": true,
        "execution": {
          "iopub.status.busy": "2025-05-20T22:47:40.031613Z",
          "iopub.execute_input": "2025-05-20T22:47:40.032130Z",
          "iopub.status.idle": "2025-05-20T22:47:40.036834Z",
          "shell.execute_reply.started": "2025-05-20T22:47:40.032109Z",
          "shell.execute_reply": "2025-05-20T22:47:40.036190Z"
        },
        "id": "0Pcf2_Bz_2Wb"
      },
      "outputs": [],
      "execution_count": null
    },
    {
      "cell_type": "code",
      "source": [
        "# Step 11: Let the user enter a prompt and generate a quote\n",
        "\n",
        "# Prompt the user for their input\n",
        "print(\"Enter your motivational topic (e.g. study hard, win the game, get rich...):\")\n",
        "user_input = input(\"Your prompt: \")\n",
        "\n",
        "# Automatically add the correct category token based on the user's input\n",
        "category_token = detect_category(user_input)  # Detect the category of the topic\n",
        "final_prompt = f\"{category_token} {user_input}\"  # Combine the category with the user's input\n",
        "\n",
        "# Generate the motivational quote using the fine-tuned GPT-2 model\n",
        "result = generate_quote(final_prompt)\n",
        "\n",
        "# Print the generated result\n",
        "print(\"\\nGenerated Motivational Quote:\")\n",
        "print(result)\n"
      ],
      "metadata": {
        "trusted": true,
        "execution": {
          "iopub.status.busy": "2025-05-20T22:50:05.309325Z",
          "iopub.execute_input": "2025-05-20T22:50:05.309605Z",
          "iopub.status.idle": "2025-05-20T22:50:18.365838Z",
          "shell.execute_reply.started": "2025-05-20T22:50:05.309586Z",
          "shell.execute_reply": "2025-05-20T22:50:18.365091Z"
        },
        "id": "nVzhPetQ_2Wc",
        "outputId": "83cb9878-95dd-40ae-af1c-6f3c7e2148c7"
      },
      "outputs": [
        {
          "name": "stdout",
          "text": "Enter your motivational topic (e.g. study hard, win the game, get rich...):\n",
          "output_type": "stream"
        },
        {
          "output_type": "stream",
          "name": "stdin",
          "text": "Your prompt:  MONEY\n"
        },
        {
          "name": "stdout",
          "text": "\nGenerated Motivational Quote:\n[MONEY] MONEY] Manage your money with patience and care. Spend wisely. Money is. Building. Money is a focus. Financial wisdom. Spend wisely and resource. Building. Building. Manage your future. Financial freedom. Save\n",
          "output_type": "stream"
        }
      ],
      "execution_count": null
    }
  ]
}